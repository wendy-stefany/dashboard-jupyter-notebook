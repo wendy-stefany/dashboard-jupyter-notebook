{
 "cells": [
  {
   "cell_type": "markdown",
   "metadata": {},
   "source": [
    "# Assignment 3\n",
    "\n",
    "**Name:** Wendy Stefany Escamilla Valadez\n",
    "\n",
    "**e-mail:** wendy.escamilla@cucei.udg.mx"
   ]
  },
  {
   "cell_type": "markdown",
   "metadata": {},
   "source": [
    "__________________________"
   ]
  },
  {
   "cell_type": "markdown",
   "metadata": {},
   "source": [
    "## Minimum requirements\n",
    "- **Functions** that return the different types of trajectories: Brownian Motion (**BM**),\n",
    "Correlated Random Walk (**CRW**), and Lévy Flight (**LF**).\n",
    "- All functions must take as arguments the **number of steps**, **speed**, and **starting**\n",
    "position.\n",
    "- In addition, **CRW** and **LF** functions must also take as an argument the **Cauchy coefficient**.\n",
    "- Lastly, the **LF** function must also include the **Lévy exponent** (alpha) as an\n",
    "argument.\n",
    "_____________\n",
    "- Functions that compute the metrics: Path length (**PL**), Mean Squared Displacement (**MSD**), and Turning Angle Distribution (**TAD**).\n",
    "The dashboard should include at least the following functionalities:\n",
    "- A panel to display the current trajectory (3D projection).\n",
    "- A panel to display the graphic for the metric of choice.\n",
    "______________\n",
    "- Radio Items (or a similar type of selector) to select the type of trajectory (BM, CRW, LF).\n",
    "- Drop down menu (or similar) to select the metric to be displayed (PL, MSD, TAD).\n",
    "- Widgets to the trajectories’ parameters (integer and floating point values). These widgets\n",
    "must be dynamically displayed according to the type of trajectory selected.\n",
    "_____________________"
   ]
  },
  {
   "cell_type": "markdown",
   "metadata": {},
   "source": [
    "# MODULES"
   ]
  },
  {
   "cell_type": "code",
   "execution_count": null,
   "metadata": {},
   "outputs": [],
   "source": []
  },
  {
   "cell_type": "markdown",
   "metadata": {},
   "source": [
    "_____________________________"
   ]
  },
  {
   "cell_type": "markdown",
   "metadata": {},
   "source": [
    "# Classes"
   ]
  },
  {
   "cell_type": "code",
   "execution_count": null,
   "metadata": {},
   "outputs": [],
   "source": []
  }
 ],
 "metadata": {
  "kernelspec": {
   "display_name": "Python 3",
   "language": "python",
   "name": "python3"
  },
  "language_info": {
   "codemirror_mode": {
    "name": "ipython",
    "version": 3
   },
   "file_extension": ".py",
   "mimetype": "text/x-python",
   "name": "python",
   "nbconvert_exporter": "python",
   "pygments_lexer": "ipython3",
   "version": "3.11.8"
  }
 },
 "nbformat": 4,
 "nbformat_minor": 2
}
